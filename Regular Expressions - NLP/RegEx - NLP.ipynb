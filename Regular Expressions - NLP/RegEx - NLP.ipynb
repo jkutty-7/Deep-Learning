{
 "cells": [
  {
   "cell_type": "markdown",
   "id": "38e36142",
   "metadata": {},
   "source": [
    "## Regular Expression for NLP"
   ]
  },
  {
   "cell_type": "code",
   "execution_count": 1,
   "id": "d2509d3e",
   "metadata": {},
   "outputs": [],
   "source": [
    "import re"
   ]
  },
  {
   "cell_type": "markdown",
   "id": "a4d1acb2",
   "metadata": {},
   "source": [
    "### Extracting Phone Numbers Using RegEx"
   ]
  },
  {
   "cell_type": "code",
   "execution_count": 2,
   "id": "4de5d9b9",
   "metadata": {},
   "outputs": [],
   "source": [
    "chat1 = 'jkutty: you ask lot of questions 😠  1235678912, abc@xyz.com'\n",
    "chat2 = 'jkutty: here it is: (123)-567-8912, abc08@xyz.com'\n",
    "chat3 = 'jkutty: yes, phone: 1235678912,9745664831,email: abc.kyc.101@xyz.com'"
   ]
  },
  {
   "cell_type": "code",
   "execution_count": 3,
   "id": "44f8e119",
   "metadata": {},
   "outputs": [
    {
     "data": {
      "text/plain": [
       "['1235678912']"
      ]
     },
     "execution_count": 3,
     "metadata": {},
     "output_type": "execute_result"
    }
   ],
   "source": [
    "#Extracting the Phone number from the first chat\n",
    "pattern = '\\d{10}'  # \\d{10} means continous 10 digits \n",
    "matches = re.findall(pattern,chat1)\n",
    "matches"
   ]
  },
  {
   "cell_type": "code",
   "execution_count": 4,
   "id": "9b4fdf25",
   "metadata": {},
   "outputs": [
    {
     "data": {
      "text/plain": [
       "['(123)-567-8912']"
      ]
     },
     "execution_count": 4,
     "metadata": {},
     "output_type": "execute_result"
    }
   ],
   "source": [
    "#Extracting the Phone number from the second chat\n",
    "pattern = '\\(\\d{3}\\)-\\d{3}-\\d{4}'\n",
    "matches = re.findall(pattern,chat2)\n",
    "matches"
   ]
  },
  {
   "cell_type": "code",
   "execution_count": 5,
   "id": "ceb7b4f2",
   "metadata": {},
   "outputs": [
    {
     "data": {
      "text/plain": [
       "['1235678912', '9745664831']"
      ]
     },
     "execution_count": 5,
     "metadata": {},
     "output_type": "execute_result"
    }
   ],
   "source": [
    "#Extracting the Phone number from the Third chat\n",
    "pattern = '\\d{10}|\\(\\d{3}\\)-\\d{3}-\\d{4}'\n",
    "matches = re.findall(pattern,chat3)\n",
    "matches"
   ]
  },
  {
   "cell_type": "markdown",
   "id": "72db601b",
   "metadata": {},
   "source": [
    "### Extracting Email from the text using RegEx"
   ]
  },
  {
   "cell_type": "code",
   "execution_count": 6,
   "id": "5286b22f",
   "metadata": {},
   "outputs": [
    {
     "data": {
      "text/plain": [
       "['abc@xyz.com']"
      ]
     },
     "execution_count": 6,
     "metadata": {},
     "output_type": "execute_result"
    }
   ],
   "source": [
    "#Extracting email from first Chat\n",
    "pattern = '[a-zA-Z0-9]*@[a-z]*\\.[a-z]*'\n",
    "matches = re.findall(pattern,chat1)\n",
    "matches"
   ]
  },
  {
   "cell_type": "code",
   "execution_count": 7,
   "id": "6f97f9b0",
   "metadata": {},
   "outputs": [
    {
     "data": {
      "text/plain": [
       "['abc08@xyz.com']"
      ]
     },
     "execution_count": 7,
     "metadata": {},
     "output_type": "execute_result"
    }
   ],
   "source": [
    "#Extracting email from second Chat\n",
    "pattern = '[a-zA-Z0-9]*@[a-z]*\\.[a-z]*'\n",
    "matches = re.findall(pattern,chat2)\n",
    "matches"
   ]
  },
  {
   "cell_type": "code",
   "execution_count": 8,
   "id": "4cf88e86",
   "metadata": {},
   "outputs": [
    {
     "data": {
      "text/plain": [
       "['abc.kyc.101@xyz.com']"
      ]
     },
     "execution_count": 8,
     "metadata": {},
     "output_type": "execute_result"
    }
   ],
   "source": [
    "#Extracting email from second Chat\n",
    "pattern = '[a-zA-Z0-9-\\.]*@[a-z]*\\.[a-z]*'\n",
    "matches = re.findall(pattern,chat3)\n",
    "matches"
   ]
  },
  {
   "cell_type": "markdown",
   "id": "f25d4300",
   "metadata": {},
   "source": [
    "### Retrieving order number from the text using Regex"
   ]
  },
  {
   "cell_type": "code",
   "execution_count": 9,
   "id": "1527c855",
   "metadata": {},
   "outputs": [],
   "source": [
    "chat1='jkutty: Hello, I am having an issue with my order # 412889912'\n",
    "chat2='jkutty: I have a problem with my order number 412889912'\n",
    "chat3='jkutty: My order 412889912 is having an issue, I was charged 300$ when online it says 280$'"
   ]
  },
  {
   "cell_type": "code",
   "execution_count": 10,
   "id": "0aac60b2",
   "metadata": {},
   "outputs": [
    {
     "data": {
      "text/plain": [
       "['412889912']"
      ]
     },
     "execution_count": 10,
     "metadata": {},
     "output_type": "execute_result"
    }
   ],
   "source": [
    "#Extracting the order number from chat1\n",
    "pattern = 'order[^\\d]*(\\d*)'\n",
    "matches = re.findall(pattern,chat1)\n",
    "matches"
   ]
  },
  {
   "cell_type": "code",
   "execution_count": 11,
   "id": "c09d810c",
   "metadata": {},
   "outputs": [
    {
     "data": {
      "text/plain": [
       "['412889912']"
      ]
     },
     "execution_count": 11,
     "metadata": {},
     "output_type": "execute_result"
    }
   ],
   "source": [
    "#Extracting the order number from chat2\n",
    "pattern = 'order[^\\d]*(\\d*)'\n",
    "matches = re.findall(pattern,chat2)\n",
    "matches"
   ]
  },
  {
   "cell_type": "code",
   "execution_count": 12,
   "id": "2c18c520",
   "metadata": {},
   "outputs": [
    {
     "data": {
      "text/plain": [
       "['412889912']"
      ]
     },
     "execution_count": 12,
     "metadata": {},
     "output_type": "execute_result"
    }
   ],
   "source": [
    "#Extracting the order number from chat3\n",
    "matches = re.findall(pattern,chat3)\n",
    "matches"
   ]
  },
  {
   "cell_type": "markdown",
   "id": "283c8d01",
   "metadata": {},
   "source": [
    "## Information Extraction using Regular Expression"
   ]
  },
  {
   "cell_type": "code",
   "execution_count": 13,
   "id": "18fefe54",
   "metadata": {},
   "outputs": [],
   "source": [
    "text='''\n",
    "Born\tElon Reeve Musk\n",
    "June 28, 1971 (age 50)\n",
    "Pretoria, Transvaal, South Africa\n",
    "Citizenship\t\n",
    "South Africa (1971–present)\n",
    "Canada (1971–present)\n",
    "United States (2002–present)\n",
    "Education\tUniversity of Pennsylvania (BS, BA)\n",
    "Title\t\n",
    "Founder, CEO and Chief Engineer of SpaceX\n",
    "CEO and product architect of Tesla, Inc.\n",
    "Founder of The Boring Company and X.com (now part of PayPal)\n",
    "Co-founder of Neuralink, OpenAI, and Zip2\n",
    "Spouse(s)\t\n",
    "Justine Wilson\n",
    "​\n",
    "​(m. 2000; div. 2008)​\n",
    "Talulah Riley\n",
    "​\n",
    "​(m. 2010; div. 2012)​\n",
    "​\n",
    "​(m. 2013; div. 2016)\n",
    "'''"
   ]
  },
  {
   "cell_type": "code",
   "execution_count": 14,
   "id": "d2cbfb4c",
   "metadata": {},
   "outputs": [
    {
     "data": {
      "text/plain": [
       "['50']"
      ]
     },
     "execution_count": 14,
     "metadata": {},
     "output_type": "execute_result"
    }
   ],
   "source": [
    "#Extracting the age from the text\n",
    "patterns = 'age (\\d+)'\n",
    "matches = re.findall(patterns,text)\n",
    "matches"
   ]
  },
  {
   "cell_type": "code",
   "execution_count": 15,
   "id": "cd75958b",
   "metadata": {},
   "outputs": [
    {
     "data": {
      "text/plain": [
       "'Elon Reeve Musk'"
      ]
     },
     "execution_count": 15,
     "metadata": {},
     "output_type": "execute_result"
    }
   ],
   "source": [
    "#Extracting Name from the text\n",
    "patterns = 'Born(.*)'\n",
    "matches = re.findall(patterns,text)\n",
    "matches[0].strip()"
   ]
  },
  {
   "cell_type": "code",
   "execution_count": 16,
   "id": "6dbf7987",
   "metadata": {},
   "outputs": [
    {
     "data": {
      "text/plain": [
       "'June 28, 1971'"
      ]
     },
     "execution_count": 16,
     "metadata": {},
     "output_type": "execute_result"
    }
   ],
   "source": [
    "#Extracting Date of Birth from the text\n",
    "patterns = 'Born.*\\n(.*)\\(age'\n",
    "matches = re.findall(patterns,text)\n",
    "matches[0].strip()"
   ]
  },
  {
   "cell_type": "code",
   "execution_count": 17,
   "id": "dc5dcfc6",
   "metadata": {},
   "outputs": [
    {
     "data": {
      "text/plain": [
       "'Pretoria, Transvaal, South Africa'"
      ]
     },
     "execution_count": 17,
     "metadata": {},
     "output_type": "execute_result"
    }
   ],
   "source": [
    "#EXtracting Birth place from the text\n",
    "patterns = 'age.*\\n(.*)'\n",
    "matches = re.findall(patterns,text)\n",
    "matches[0].strip()"
   ]
  },
  {
   "cell_type": "code",
   "execution_count": 18,
   "id": "a42fd0b6",
   "metadata": {},
   "outputs": [],
   "source": [
    "#Creating a function for simplyfying the work\n",
    "def get_pattern_match(patterns,text):\n",
    "    matches = re.findall(patterns,text)\n",
    "    if matches:\n",
    "        return matches[0]"
   ]
  },
  {
   "cell_type": "code",
   "execution_count": 19,
   "id": "67798ad9",
   "metadata": {},
   "outputs": [],
   "source": [
    "#Creating a function for Extracting personal information from text\n",
    "def get_personal_information(text):\n",
    "    age = get_pattern_match('age (\\d+)',text)\n",
    "    full_name = get_pattern_match('Born(.*)',text)\n",
    "    birth_date = get_pattern_match('Born.*\\n(.*)\\(age',text)\n",
    "    birth_place = get_pattern_match('age.*\\n(.*)',text)\n",
    "    return {\n",
    "        'age':int(age),\n",
    "        'full_name':full_name.strip(),\n",
    "        'birth_date':birth_date.strip(),\n",
    "        'birth_place':birth_place.strip()\n",
    "    }"
   ]
  },
  {
   "cell_type": "markdown",
   "id": "050b5110",
   "metadata": {},
   "source": [
    "### Examples of Regular Expression for text extraction"
   ]
  },
  {
   "cell_type": "code",
   "execution_count": 20,
   "id": "eb481a72",
   "metadata": {},
   "outputs": [],
   "source": [
    "text1=text = '''\n",
    "Born\tMukesh Dhirubhai Ambani\n",
    "19 April 1957 (age 64)\n",
    "Aden, Colony of Aden\n",
    "(present-day Yemen)[1][2]\n",
    "Nationality\tIndian\n",
    "Alma mater\t\n",
    "St. Xavier's College, Mumbai\n",
    "Institute of Chemical Technology (B.E.)\n",
    "Stanford University (drop-out)\n",
    "Occupation\tChairman and MD, Reliance Industries\n",
    "Spouse(s)\tNita Ambani ​(m. 1985)​[3]\n",
    "Children\t3\n",
    "Parent(s)\t\n",
    "Dhirubhai Ambani (father)\n",
    "Kokilaben Ambani (mother)\n",
    "Relatives\tAnil Ambani (brother)\n",
    "Tina Ambani (sister-in-law)\n",
    "'''"
   ]
  },
  {
   "cell_type": "code",
   "execution_count": 21,
   "id": "a9e93e4a",
   "metadata": {},
   "outputs": [
    {
     "data": {
      "text/plain": [
       "{'age': 64,\n",
       " 'full_name': 'Mukesh Dhirubhai Ambani',\n",
       " 'birth_date': '19 April 1957',\n",
       " 'birth_place': 'Aden, Colony of Aden'}"
      ]
     },
     "execution_count": 21,
     "metadata": {},
     "output_type": "execute_result"
    }
   ],
   "source": [
    "extraction = get_personal_information(text1)\n",
    "extraction"
   ]
  },
  {
   "cell_type": "code",
   "execution_count": 22,
   "id": "074b93a8",
   "metadata": {},
   "outputs": [],
   "source": [
    "text3='''Born\tWilliam Henry Gates III\n",
    "October 28, 1955 (age 67)\n",
    "Seattle, Washington, U.S.\n",
    "Education\t\n",
    "Harvard University\n",
    "(dropped out)\n",
    "Occupations\t\n",
    "Businessmaninvestorphilanthropistprogrammerwriter\n",
    "Years active\t1972–present\n",
    "Known for\tCo-founder of Microsoft and Bill & Melinda Gates Foundation\n",
    "Title\t\n",
    "Partial list of founded and chaired companies\n",
    "Spouse\tMelinda French\n",
    "​\n",
    "​(m. 1994; div. 2021)'''"
   ]
  },
  {
   "cell_type": "code",
   "execution_count": 23,
   "id": "920ad201",
   "metadata": {},
   "outputs": [
    {
     "data": {
      "text/plain": [
       "{'age': 67,\n",
       " 'full_name': 'William Henry Gates III',\n",
       " 'birth_date': 'October 28, 1955',\n",
       " 'birth_place': 'Seattle, Washington, U.S.'}"
      ]
     },
     "execution_count": 23,
     "metadata": {},
     "output_type": "execute_result"
    }
   ],
   "source": [
    "extraction2 = get_personal_information(text3)\n",
    "extraction2"
   ]
  }
 ],
 "metadata": {
  "kernelspec": {
   "display_name": "Python 3 (ipykernel)",
   "language": "python",
   "name": "python3"
  },
  "language_info": {
   "codemirror_mode": {
    "name": "ipython",
    "version": 3
   },
   "file_extension": ".py",
   "mimetype": "text/x-python",
   "name": "python",
   "nbconvert_exporter": "python",
   "pygments_lexer": "ipython3",
   "version": "3.11.4"
  }
 },
 "nbformat": 4,
 "nbformat_minor": 5
}
