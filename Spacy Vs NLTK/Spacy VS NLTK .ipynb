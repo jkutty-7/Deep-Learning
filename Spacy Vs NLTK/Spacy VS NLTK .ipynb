{
 "cells": [
  {
   "cell_type": "markdown",
   "id": "dcda9091",
   "metadata": {},
   "source": [
    "### Spacy VS NLTK"
   ]
  },
  {
   "cell_type": "markdown",
   "id": "e06ec768",
   "metadata": {},
   "source": [
    "Both are libraries which is used for NLP. The main difference is that Spacy is object oriented and NLTK is string oriented"
   ]
  },
  {
   "cell_type": "code",
   "execution_count": 1,
   "id": "f1993f76",
   "metadata": {},
   "outputs": [],
   "source": [
    "import spacy"
   ]
  },
  {
   "cell_type": "code",
   "execution_count": 2,
   "id": "7f2e597a",
   "metadata": {},
   "outputs": [],
   "source": [
    "nlp = spacy.load(\"en_core_web_sm\")"
   ]
  },
  {
   "cell_type": "code",
   "execution_count": 3,
   "id": "301b972c",
   "metadata": {},
   "outputs": [],
   "source": [
    "doc = nlp(\"Dr. Strange loves paav bhaaji. Hulk Loves chaat Masaala in Delhi\")"
   ]
  },
  {
   "cell_type": "code",
   "execution_count": 4,
   "id": "f421b3c2",
   "metadata": {},
   "outputs": [
    {
     "name": "stdout",
     "output_type": "stream",
     "text": [
      "Dr. Strange loves paav bhaaji.\n",
      "Hulk Loves chaat Masaala in Delhi\n"
     ]
    }
   ],
   "source": [
    "for sentence in doc.sents:\n",
    "    print(sentence)"
   ]
  },
  {
   "cell_type": "code",
   "execution_count": 5,
   "id": "749a725c",
   "metadata": {},
   "outputs": [
    {
     "name": "stdout",
     "output_type": "stream",
     "text": [
      "Dr.\n",
      "Strange\n",
      "loves\n",
      "paav\n",
      "bhaaji\n",
      ".\n",
      "Hulk\n",
      "Loves\n",
      "chaat\n",
      "Masaala\n",
      "in\n",
      "Delhi\n"
     ]
    }
   ],
   "source": [
    "for sentence in doc.sents:\n",
    "    for word in sentence:\n",
    "        print(word)"
   ]
  },
  {
   "cell_type": "markdown",
   "id": "fe69bb04",
   "metadata": {},
   "source": [
    "## NLTK"
   ]
  },
  {
   "cell_type": "code",
   "execution_count": 1,
   "id": "bc33fc26",
   "metadata": {},
   "outputs": [],
   "source": [
    "import nltk"
   ]
  },
  {
   "cell_type": "code",
   "execution_count": 2,
   "id": "8ecd70c0",
   "metadata": {},
   "outputs": [],
   "source": [
    "from nltk.tokenize import sent_tokenize"
   ]
  },
  {
   "cell_type": "code",
   "execution_count": 3,
   "id": "7f43c9a1",
   "metadata": {},
   "outputs": [
    {
     "data": {
      "text/plain": [
       "['Dr.', 'Strange loves paav bhaaji.', 'Hulk Loves chaat Masaala in Delhi']"
      ]
     },
     "execution_count": 3,
     "metadata": {},
     "output_type": "execute_result"
    }
   ],
   "source": [
    "sent_tokenize(\"Dr. Strange loves paav bhaaji. Hulk Loves chaat Masaala in Delhi\")"
   ]
  },
  {
   "cell_type": "code",
   "execution_count": 4,
   "id": "7455edd4",
   "metadata": {},
   "outputs": [],
   "source": [
    "from nltk.tokenize import word_tokenize"
   ]
  },
  {
   "cell_type": "code",
   "execution_count": 5,
   "id": "24d8ba27",
   "metadata": {},
   "outputs": [
    {
     "data": {
      "text/plain": [
       "['Dr',\n",
       " '.',\n",
       " 'Strange',\n",
       " 'loves',\n",
       " 'paav',\n",
       " 'bhaaji',\n",
       " '.',\n",
       " 'Hulk',\n",
       " 'Loves',\n",
       " 'chaat',\n",
       " 'Masaala',\n",
       " 'in',\n",
       " 'Delhi']"
      ]
     },
     "execution_count": 5,
     "metadata": {},
     "output_type": "execute_result"
    }
   ],
   "source": [
    "word_tokenize(\"Dr. Strange loves paav bhaaji. Hulk Loves chaat Masaala in Delhi\")"
   ]
  }
 ],
 "metadata": {
  "kernelspec": {
   "display_name": "Python 3 (ipykernel)",
   "language": "python",
   "name": "python3"
  },
  "language_info": {
   "codemirror_mode": {
    "name": "ipython",
    "version": 3
   },
   "file_extension": ".py",
   "mimetype": "text/x-python",
   "name": "python",
   "nbconvert_exporter": "python",
   "pygments_lexer": "ipython3",
   "version": "3.11.4"
  }
 },
 "nbformat": 4,
 "nbformat_minor": 5
}
